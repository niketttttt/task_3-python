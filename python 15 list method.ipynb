{
 "cells": [
  {
   "cell_type": "markdown",
   "id": "70e8b693-dfb5-4c74-8de1-1bc61df593fc",
   "metadata": {},
   "source": [
    "# 15 list type\n",
    "\n",
    "# 1)sort\n",
    "\n",
    "* The sort() method sorts the list ascending by default.\n",
    "*\r\n",
    "You can also make a function to decide the sorting criter\n",
    "* https://www.w3schools.com/python/ref_list_sort.asp)."
   ]
  },
  {
   "cell_type": "code",
   "execution_count": 5,
   "id": "655b9674-bf6f-49bc-afba-5d2fabbf3a38",
   "metadata": {},
   "outputs": [],
   "source": [
    "f1 = [123,23,45,43,65,43,67,89,223,89,]\n"
   ]
  },
  {
   "cell_type": "code",
   "execution_count": 7,
   "id": "8128b904-e1d1-4015-b31e-ed847effc356",
   "metadata": {},
   "outputs": [],
   "source": [
    "f1.sort()"
   ]
  },
  {
   "cell_type": "code",
   "execution_count": 55,
   "id": "552018ce-31e2-4029-89d3-c9aff383fa61",
   "metadata": {},
   "outputs": [
    {
     "data": {
      "text/plain": [
       "[23, 43, 43, 45, 65, 67, 89, 89, 123, 223]"
      ]
     },
     "execution_count": 55,
     "metadata": {},
     "output_type": "execute_result"
    }
   ],
   "source": [
    "f1"
   ]
  },
  {
   "cell_type": "markdown",
   "id": "17865eb0-426e-4d40-a517-3eff60013ebb",
   "metadata": {},
   "source": [
    "# 2) copy\n",
    "\n",
    "* the copy() method is used to copy specified list\n",
    "* https://www.w3schools.com/python/ref_list_copy.asp"
   ]
  },
  {
   "cell_type": "code",
   "execution_count": 62,
   "id": "7bad4725-d7d1-4fa0-9af1-e977ddabefed",
   "metadata": {},
   "outputs": [],
   "source": [
    "f2 = [123,47,85434,96,43,'name','name2']"
   ]
  },
  {
   "cell_type": "code",
   "execution_count": 64,
   "id": "bf515feb-d37c-4280-abfb-da680fdc2de1",
   "metadata": {},
   "outputs": [],
   "source": [
    "a2 = f2.copy()"
   ]
  },
  {
   "cell_type": "code",
   "execution_count": 66,
   "id": "e8a68da9-a73c-44a2-9c55-856308a69597",
   "metadata": {},
   "outputs": [
    {
     "data": {
      "text/plain": [
       "[123, 47, 85434, 96, 43, 'name', 'name2']"
      ]
     },
     "execution_count": 66,
     "metadata": {},
     "output_type": "execute_result"
    }
   ],
   "source": [
    "a2"
   ]
  },
  {
   "cell_type": "markdown",
   "id": "a5c9d2a3-b4c0-4253-af2b-3a0c5fe2fbe0",
   "metadata": {},
   "source": [
    "# 3) pop \n",
    "\n",
    "* remove the element for specified position\n",
    "* A number specifying the position of the element you want to remove\n",
    "* https://www.w3schools.com/python/ref_list_pop.asps"
   ]
  },
  {
   "cell_type": "code",
   "execution_count": 72,
   "id": "c9d846f4-6ac9-4804-8ad1-ab368e9aa240",
   "metadata": {},
   "outputs": [],
   "source": [
    "f3 = [234,7546,357,86,32,'gst','true','false','fds']"
   ]
  },
  {
   "cell_type": "code",
   "execution_count": 74,
   "id": "0e6b4f8a-95e1-4c4f-a986-a0471d34ee08",
   "metadata": {},
   "outputs": [],
   "source": [
    "a3 = f3.pop(5)"
   ]
  },
  {
   "cell_type": "code",
   "execution_count": 76,
   "id": "a01f387b-6b8d-41ef-991c-cad135eb7b58",
   "metadata": {},
   "outputs": [
    {
     "data": {
      "text/plain": [
       "'gst'"
      ]
     },
     "execution_count": 76,
     "metadata": {},
     "output_type": "execute_result"
    }
   ],
   "source": [
    "a3"
   ]
  },
  {
   "cell_type": "markdown",
   "id": "cdab5767-53a4-4002-8ad8-a98760bd62ff",
   "metadata": {},
   "source": [
    "# 4) remove\n",
    "\n",
    "* Python list remove() method removes a given element from the list.\n",
    "* https://www.geeksforgeeks.org/python-list-remove/"
   ]
  },
  {
   "cell_type": "code",
   "execution_count": 116,
   "id": "e6dace40-3801-49be-9500-abeb724227c1",
   "metadata": {},
   "outputs": [],
   "source": [
    "f4 = ['dog','mouse','go to the class']"
   ]
  },
  {
   "cell_type": "code",
   "execution_count": 118,
   "id": "b296b45f-449e-4030-9a6c-dc8819d8d3ba",
   "metadata": {},
   "outputs": [],
   "source": [
    "f4.remove('dog')"
   ]
  },
  {
   "cell_type": "code",
   "execution_count": 120,
   "id": "f177fad8-1d77-4daf-815f-659c72652093",
   "metadata": {},
   "outputs": [
    {
     "data": {
      "text/plain": [
       "['mouse', 'go to the class']"
      ]
     },
     "execution_count": 120,
     "metadata": {},
     "output_type": "execute_result"
    }
   ],
   "source": [
    "f4"
   ]
  },
  {
   "cell_type": "markdown",
   "id": "45e848d6-fe83-4046-a65b-22296f9995be",
   "metadata": {},
   "source": [
    "# 5) reverse\n",
    "\n",
    "* The reverse() method reverses the sorting order of the elements\n",
    "* https://www.w3schools.com/python/ref_list_reverse.asp"
   ]
  },
  {
   "cell_type": "code",
   "execution_count": 139,
   "id": "b2bd236c-501d-4e8b-9a00-466cb91d4b5f",
   "metadata": {},
   "outputs": [],
   "source": [
    "f5 = ['dog','mouse','go to the class']"
   ]
  },
  {
   "cell_type": "code",
   "execution_count": 141,
   "id": "7b7a252e-d31a-4e5d-85cc-d1586dafbd15",
   "metadata": {},
   "outputs": [],
   "source": [
    "f5.reverse()"
   ]
  },
  {
   "cell_type": "code",
   "execution_count": 143,
   "id": "c0aa61b7-da5b-484d-8b9a-0efef281024a",
   "metadata": {},
   "outputs": [
    {
     "data": {
      "text/plain": [
       "['go to the class', 'mouse', 'dog']"
      ]
     },
     "execution_count": 143,
     "metadata": {},
     "output_type": "execute_result"
    }
   ],
   "source": [
    "f5"
   ]
  },
  {
   "cell_type": "markdown",
   "id": "a615dd14-e9f5-475c-af28-878b9442cce4",
   "metadata": {},
   "source": [
    "# 6) clear\n",
    "\n",
    "* The clear() method removes all the elements from a list.\n",
    "* https://www.w3schools.com/python/ref_list_clear.asp"
   ]
  },
  {
   "cell_type": "code",
   "execution_count": 147,
   "id": "1aadc69a-a9eb-4731-8806-58e88bf49627",
   "metadata": {},
   "outputs": [],
   "source": [
    "f6 = [123,455,6,756,786,976]"
   ]
  },
  {
   "cell_type": "code",
   "execution_count": 157,
   "id": "c8f7c783-3002-46c0-98b0-cce9f53685a2",
   "metadata": {},
   "outputs": [],
   "source": [
    "f6.clear()"
   ]
  },
  {
   "cell_type": "code",
   "execution_count": 151,
   "id": "9a3bcc8f-c773-40ff-a119-e78947259e10",
   "metadata": {},
   "outputs": [
    {
     "data": {
      "text/plain": [
       "[]"
      ]
     },
     "execution_count": 151,
     "metadata": {},
     "output_type": "execute_result"
    }
   ],
   "source": [
    "f6"
   ]
  },
  {
   "cell_type": "markdown",
   "id": "520bb76b-1d92-499b-884d-3eb361166db8",
   "metadata": {},
   "source": [
    "# 7) index\n",
    "\n",
    "*  method returns the position at the first occurrence of the specified value.\n",
    "*  https://www.w3schools.com/python/ref_list_index.asp"
   ]
  },
  {
   "cell_type": "code",
   "execution_count": 162,
   "id": "56a63a32-0770-477d-9a96-608e3bcc7c52",
   "metadata": {},
   "outputs": [],
   "source": [
    "f7 = [13,87,9,45,744,'give','me','hello']"
   ]
  },
  {
   "cell_type": "code",
   "execution_count": 164,
   "id": "6023d97d-ea48-44e7-84fe-c7064750d1d4",
   "metadata": {},
   "outputs": [
    {
     "data": {
      "text/plain": [
       "5"
      ]
     },
     "execution_count": 164,
     "metadata": {},
     "output_type": "execute_result"
    }
   ],
   "source": [
    "f7.index('give')"
   ]
  },
  {
   "cell_type": "markdown",
   "id": "a14959fa-c8dc-4e01-82f2-f51d08bb1a15",
   "metadata": {},
   "source": [
    "# 8) extend\n",
    "\n",
    "* The extend() method adds the specified list elements (or any iterable) to the end of the current list.\n",
    "* https://www.w3schools.com/python/ref_list_extend.asp"
   ]
  },
  {
   "cell_type": "code",
   "execution_count": 173,
   "id": "7aff6067-698f-40b4-b848-31f19abd070f",
   "metadata": {},
   "outputs": [],
   "source": [
    "f8 = [ 12,34,56,775,76,5,7,0]"
   ]
  },
  {
   "cell_type": "code",
   "execution_count": 175,
   "id": "4aa32cad-1d61-4dba-99a2-9a74eeb22977",
   "metadata": {},
   "outputs": [],
   "source": [
    "animal = ['dog','cat','mouse','zebra']"
   ]
  },
  {
   "cell_type": "code",
   "execution_count": 177,
   "id": "b93446de-b10d-4683-b0a2-4c586349daf6",
   "metadata": {},
   "outputs": [],
   "source": [
    "f8.extend(animal)"
   ]
  },
  {
   "cell_type": "code",
   "execution_count": 179,
   "id": "fe1ff3fa-b4cd-4565-867a-c09cb004da7b",
   "metadata": {},
   "outputs": [
    {
     "data": {
      "text/plain": [
       "[12, 34, 56, 775, 76, 5, 7, 0, 'dog', 'cat', 'mouse', 'zebra']"
      ]
     },
     "execution_count": 179,
     "metadata": {},
     "output_type": "execute_result"
    }
   ],
   "source": [
    "f8"
   ]
  },
  {
   "cell_type": "markdown",
   "id": "7da39018-1118-41a2-905e-934916ca6fb3",
   "metadata": {},
   "source": [
    "# 9)append\n",
    "\n",
    "* The append() method appends an element to the end of the list.\n",
    "* https://www.w3schools.com/python/ref_list_append.asp\r",
    "\r\n"
   ]
  },
  {
   "cell_type": "code",
   "execution_count": 184,
   "id": "8a7babc8-8564-4d22-8319-58865f4a025c",
   "metadata": {},
   "outputs": [],
   "source": [
    "f9 = [12,45,67,89,90,23,44]"
   ]
  },
  {
   "cell_type": "code",
   "execution_count": 186,
   "id": "c40ddb12-ceab-409d-bdfd-5ba7debf5ded",
   "metadata": {},
   "outputs": [],
   "source": [
    "f9.append('cat')"
   ]
  },
  {
   "cell_type": "code",
   "execution_count": 188,
   "id": "f49ab624-2585-4bf1-8cde-78c61eead521",
   "metadata": {},
   "outputs": [
    {
     "data": {
      "text/plain": [
       "[12, 45, 67, 89, 90, 23, 44, 'cat']"
      ]
     },
     "execution_count": 188,
     "metadata": {},
     "output_type": "execute_result"
    }
   ],
   "source": [
    "f9"
   ]
  },
  {
   "cell_type": "markdown",
   "id": "9f7ae329-3b6d-48b1-af80-bee81c20e047",
   "metadata": {},
   "source": [
    "# 10) count\n",
    "\n",
    "* The count() method returns the number of elements with the specified value.\n",
    "* https://www.w3schools.com/python/ref_list_count.asp"
   ]
  },
  {
   "cell_type": "code",
   "execution_count": 191,
   "id": "dcf12b51-0f23-4c57-9c39-441257d16d43",
   "metadata": {},
   "outputs": [],
   "source": [
    "f10 = [12,34,56,78,90,56,7,12,54,6,712,12]"
   ]
  },
  {
   "cell_type": "code",
   "execution_count": 193,
   "id": "2925fc50-baa9-46cf-9a4b-8ab0ef459868",
   "metadata": {},
   "outputs": [
    {
     "data": {
      "text/plain": [
       "3"
      ]
     },
     "execution_count": 193,
     "metadata": {},
     "output_type": "execute_result"
    }
   ],
   "source": [
    "f10.count(12)"
   ]
  },
  {
   "cell_type": "markdown",
   "id": "255bdf14-6db8-478b-8e00-f054f5521f67",
   "metadata": {},
   "source": [
    "# 11) insert\n",
    "\n",
    "* The insert() method inserts the specified value at the specified position.\n",
    "* https://www.w3schools.com/python/ref_list_insert.asp"
   ]
  },
  {
   "cell_type": "code",
   "execution_count": 196,
   "id": "d13f97d0-3223-4e9b-963e-a22a224596dc",
   "metadata": {},
   "outputs": [],
   "source": [
    "f11 = [12,34,56,78,90,56,7,12,54,6,712,12]"
   ]
  },
  {
   "cell_type": "code",
   "execution_count": 198,
   "id": "110e7583-483d-45a6-854e-183d870a922e",
   "metadata": {},
   "outputs": [],
   "source": [
    "f11.insert(3, 'true')"
   ]
  },
  {
   "cell_type": "code",
   "execution_count": 200,
   "id": "07c4aa98-fe21-4963-8948-0bbe3337a728",
   "metadata": {},
   "outputs": [
    {
     "data": {
      "text/plain": [
       "[12, 34, 56, 'true', 78, 90, 56, 7, 12, 54, 6, 712, 12]"
      ]
     },
     "execution_count": 200,
     "metadata": {},
     "output_type": "execute_result"
    }
   ],
   "source": [
    "f11"
   ]
  },
  {
   "cell_type": "markdown",
   "id": "91c51378-60fc-46f3-871f-fc6799a6008b",
   "metadata": {},
   "source": [
    "# 12) min \n",
    "\n",
    "* Python min() function returns the smallest of the values or the smallest item in an list\n",
    "* https://www.geeksforgeeks.org/python-min-function/"
   ]
  },
  {
   "cell_type": "code",
   "execution_count": 203,
   "id": "85f80b47-7d29-47b7-ab7c-30e75ab42d53",
   "metadata": {},
   "outputs": [],
   "source": [
    "f12 = [12,34,56,78,90,56,7,12,54,6,712,12]"
   ]
  },
  {
   "cell_type": "code",
   "execution_count": 207,
   "id": "973222fd-c851-4cf4-8f41-a3a16563acdb",
   "metadata": {},
   "outputs": [],
   "source": [
    "a12 = min(f12)"
   ]
  },
  {
   "cell_type": "code",
   "execution_count": 209,
   "id": "ac0d0efe-618c-4d28-8fed-d0dd76be8db9",
   "metadata": {},
   "outputs": [
    {
     "data": {
      "text/plain": [
       "6"
      ]
     },
     "execution_count": 209,
     "metadata": {},
     "output_type": "execute_result"
    }
   ],
   "source": [
    "a12"
   ]
  },
  {
   "cell_type": "markdown",
   "id": "cf56d4f6-02f2-4c41-bd20-d7a51f0a370c",
   "metadata": {},
   "source": [
    "# 13) max\n",
    "\n",
    "* python list max() function return the maxium value in the list\n",
    "* https://www.geeksforgeeks.org/python-list-max-method/?ref=lbp"
   ]
  },
  {
   "cell_type": "code",
   "execution_count": 212,
   "id": "7dcc796e-edc5-4485-9891-099c95a66444",
   "metadata": {},
   "outputs": [],
   "source": [
    "f13 = [12,34,56,78,90,56,7,12,54,6,712,12]"
   ]
  },
  {
   "cell_type": "code",
   "execution_count": 214,
   "id": "8088290e-53f7-4656-a27e-224f18b5c4da",
   "metadata": {},
   "outputs": [],
   "source": [
    "a13 = max(f13)"
   ]
  },
  {
   "cell_type": "code",
   "execution_count": 216,
   "id": "f0b66369-f87d-405b-a431-34c8d4f3a1a9",
   "metadata": {},
   "outputs": [
    {
     "data": {
      "text/plain": [
       "712"
      ]
     },
     "execution_count": 216,
     "metadata": {},
     "output_type": "execute_result"
    }
   ],
   "source": [
    "a13"
   ]
  },
  {
   "cell_type": "markdown",
   "id": "203f29fe-289c-4b37-856b-719d77c53cd1",
   "metadata": {},
   "source": [
    "# 14) sum \n",
    "\n",
    "* The sum() function in Python calculates the total sum of all numerical values in an iterable.\n",
    "* https://www.geeksforgeeks.org/sum-function-python/"
   ]
  },
  {
   "cell_type": "code",
   "execution_count": 219,
   "id": "ebfde454-5a30-40b0-a71a-abe98f0bd94e",
   "metadata": {},
   "outputs": [],
   "source": [
    "f14 = [12,34,56,78,90,56,7,12,54,6,712,12]"
   ]
  },
  {
   "cell_type": "code",
   "execution_count": 221,
   "id": "7576a402-0510-4507-a58c-bcf0d8ebadb4",
   "metadata": {},
   "outputs": [],
   "source": [
    "a14 = sum(f14)"
   ]
  },
  {
   "cell_type": "code",
   "execution_count": 223,
   "id": "664bb468-b92f-4c2a-b88d-ae1b24cf383a",
   "metadata": {},
   "outputs": [
    {
     "data": {
      "text/plain": [
       "1129"
      ]
     },
     "execution_count": 223,
     "metadata": {},
     "output_type": "execute_result"
    }
   ],
   "source": [
    "a14"
   ]
  },
  {
   "cell_type": "markdown",
   "id": "89a3bd77-08ef-4d59-a4c2-55a90135bd4b",
   "metadata": {},
   "source": [
    "# 15) len\n",
    "\n",
    "* The len() function in Python returns the number of items in an object.\n",
    "* https://realpython.com/len-python-function/"
   ]
  },
  {
   "cell_type": "code",
   "execution_count": 226,
   "id": "1102d118-61a5-443a-8f9f-f3797eb18520",
   "metadata": {},
   "outputs": [],
   "source": [
    "f15 = [12,45,67,4,65,78,89]"
   ]
  },
  {
   "cell_type": "code",
   "execution_count": 240,
   "id": "c83801f1-e1ec-40cc-a8de-85f63dbedbf9",
   "metadata": {},
   "outputs": [],
   "source": [
    "a15 = len((f15))"
   ]
  },
  {
   "cell_type": "code",
   "execution_count": 242,
   "id": "11c834bc-d50b-474d-ac46-d5389e499d8d",
   "metadata": {},
   "outputs": [
    {
     "data": {
      "text/plain": [
       "7"
      ]
     },
     "execution_count": 242,
     "metadata": {},
     "output_type": "execute_result"
    }
   ],
   "source": [
    "a15"
   ]
  },
  {
   "cell_type": "markdown",
   "id": "046d2d0f-051f-47f7-9925-597d5f19dc20",
   "metadata": {},
   "source": [
    "## slice"
   ]
  },
  {
   "cell_type": "code",
   "execution_count": 254,
   "id": "3db3ad3a-c36b-4e6c-af66-c1af7fb35a9f",
   "metadata": {},
   "outputs": [],
   "source": [
    "w1 = [12,344,566,567,7,656,6,7787,7]"
   ]
  },
  {
   "cell_type": "code",
   "execution_count": 260,
   "id": "d717e2cb-4052-4887-9a86-909f0357aa8f",
   "metadata": {},
   "outputs": [
    {
     "data": {
      "text/plain": [
       "[344, 567, 656, 7787]"
      ]
     },
     "execution_count": 260,
     "metadata": {},
     "output_type": "execute_result"
    }
   ],
   "source": [
    "w1[1:9:2]"
   ]
  },
  {
   "cell_type": "code",
   "execution_count": null,
   "id": "1f0cb540-af4b-4d89-8bc6-8a9b29fe7ac2",
   "metadata": {},
   "outputs": [],
   "source": []
  }
 ],
 "metadata": {
  "kernelspec": {
   "display_name": "Python 3 (ipykernel)",
   "language": "python",
   "name": "python3"
  },
  "language_info": {
   "codemirror_mode": {
    "name": "ipython",
    "version": 3
   },
   "file_extension": ".py",
   "mimetype": "text/x-python",
   "name": "python",
   "nbconvert_exporter": "python",
   "pygments_lexer": "ipython3",
   "version": "3.12.4"
  }
 },
 "nbformat": 4,
 "nbformat_minor": 5
}
