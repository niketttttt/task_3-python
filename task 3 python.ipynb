{
 "cells": [
  {
   "cell_type": "markdown",
   "id": "5104fd66-600d-4ba9-ba0d-a159de5b466f",
   "metadata": {},
   "source": [
    "# 20 list item for different data type\n",
    "\n",
    "# 1) int"
   ]
  },
  {
   "cell_type": "code",
   "execution_count": 2,
   "id": "814a04ea-9b41-4438-85e3-f1c98bc059bb",
   "metadata": {},
   "outputs": [],
   "source": [
    "l1 = [ 21, 44, 34, 56, 76, 55, 77, 88, 99, 100]"
   ]
  },
  {
   "cell_type": "code",
   "execution_count": 3,
   "id": "273c2a90-23fc-4ed3-bdc9-33363dd51b42",
   "metadata": {},
   "outputs": [
    {
     "data": {
      "text/plain": [
       "[21, 44, 34, 56, 76, 55, 77, 88, 99, 100]"
      ]
     },
     "execution_count": 3,
     "metadata": {},
     "output_type": "execute_result"
    }
   ],
   "source": [
    "l1"
   ]
  },
  {
   "cell_type": "code",
   "execution_count": 4,
   "id": "0eb67dfb-5c62-4823-9705-91f746820efb",
   "metadata": {},
   "outputs": [
    {
     "data": {
      "text/plain": [
       "650"
      ]
     },
     "execution_count": 4,
     "metadata": {},
     "output_type": "execute_result"
    }
   ],
   "source": [
    "sum(l1)"
   ]
  },
  {
   "cell_type": "code",
   "execution_count": 5,
   "id": "0cc849eb-1fa4-4a5b-bc5c-d90c0fa7e48e",
   "metadata": {},
   "outputs": [
    {
     "data": {
      "text/plain": [
       "21"
      ]
     },
     "execution_count": 5,
     "metadata": {},
     "output_type": "execute_result"
    }
   ],
   "source": [
    "min(l1)"
   ]
  },
  {
   "cell_type": "code",
   "execution_count": 6,
   "id": "a45a1a47-dca6-4064-baa6-412985560ed8",
   "metadata": {},
   "outputs": [
    {
     "data": {
      "text/plain": [
       "10"
      ]
     },
     "execution_count": 6,
     "metadata": {},
     "output_type": "execute_result"
    }
   ],
   "source": [
    "len(l1)"
   ]
  },
  {
   "cell_type": "code",
   "execution_count": 7,
   "id": "25dc83b3-f445-4a3b-b6f4-d061da8ceff5",
   "metadata": {},
   "outputs": [
    {
     "data": {
      "text/plain": [
       "7"
      ]
     },
     "execution_count": 7,
     "metadata": {},
     "output_type": "execute_result"
    }
   ],
   "source": [
    "l1.index(88)"
   ]
  },
  {
   "cell_type": "markdown",
   "id": "6c8b7d74-1d66-463d-852f-4c268073148e",
   "metadata": {},
   "source": [
    "# 2)  string"
   ]
  },
  {
   "cell_type": "code",
   "execution_count": 25,
   "id": "70c4c397-384e-408b-9035-8f189d5b232b",
   "metadata": {},
   "outputs": [],
   "source": [
    "l2 = [ 'kolakata', 'mumbai', 'pune', 'nashik', 'nagpur', 'hyderabad']"
   ]
  },
  {
   "cell_type": "code",
   "execution_count": 27,
   "id": "ec1641b5-d89f-412f-ad62-a4ae699a972e",
   "metadata": {},
   "outputs": [],
   "source": [
    "l3 = [ 'name1', 'name2', 'name3' ]\n"
   ]
  },
  {
   "cell_type": "code",
   "execution_count": 29,
   "id": "cb456f7d-8817-47a1-a2c5-f26b020cfa84",
   "metadata": {},
   "outputs": [
    {
     "data": {
      "text/plain": [
       "['kolakata', 'mumbai', 'pune', 'nashik', 'nagpur', 'hyderabad']"
      ]
     },
     "execution_count": 29,
     "metadata": {},
     "output_type": "execute_result"
    }
   ],
   "source": [
    "l2"
   ]
  },
  {
   "cell_type": "code",
   "execution_count": 31,
   "id": "7b10b96e-a3b7-470f-9a2d-7cf888152625",
   "metadata": {},
   "outputs": [],
   "source": [
    "l2.extend(l3)"
   ]
  },
  {
   "cell_type": "code",
   "execution_count": 33,
   "id": "fc5c1bdd-3a4e-46e9-bc23-67913c2dffd0",
   "metadata": {},
   "outputs": [
    {
     "data": {
      "text/plain": [
       "['kolakata',\n",
       " 'mumbai',\n",
       " 'pune',\n",
       " 'nashik',\n",
       " 'nagpur',\n",
       " 'hyderabad',\n",
       " 'name1',\n",
       " 'name2',\n",
       " 'name3']"
      ]
     },
     "execution_count": 33,
     "metadata": {},
     "output_type": "execute_result"
    }
   ],
   "source": [
    "l2"
   ]
  },
  {
   "cell_type": "markdown",
   "id": "2c5bd578-daa1-4dcb-a7e3-496ce29bbdf6",
   "metadata": {},
   "source": [
    "  # 3) float"
   ]
  },
  {
   "cell_type": "code",
   "execution_count": 37,
   "id": "ec87e4a8-a5e3-4c17-a15b-fb5508dc563e",
   "metadata": {},
   "outputs": [],
   "source": [
    "l3 = [23.66, 34.88, 99.44, 43.55, 22.65, 78.55,99.44]"
   ]
  },
  {
   "cell_type": "code",
   "execution_count": 39,
   "id": "43e54e1a-f676-4238-9d3f-07a421854e41",
   "metadata": {},
   "outputs": [
    {
     "data": {
      "text/plain": [
       "[23.66, 34.88, 99.44, 43.55, 22.65, 78.55, 99.44]"
      ]
     },
     "execution_count": 39,
     "metadata": {},
     "output_type": "execute_result"
    }
   ],
   "source": [
    "l3"
   ]
  },
  {
   "cell_type": "code",
   "execution_count": 41,
   "id": "3e77cedc-6c5a-422d-981f-d869ad5b5c25",
   "metadata": {},
   "outputs": [
    {
     "data": {
      "text/plain": [
       "2"
      ]
     },
     "execution_count": 41,
     "metadata": {},
     "output_type": "execute_result"
    }
   ],
   "source": [
    "l3.count(99.44)"
   ]
  },
  {
   "cell_type": "code",
   "execution_count": 43,
   "id": "f74a7e2b-f348-4e78-8084-5a5ef2f61774",
   "metadata": {},
   "outputs": [
    {
     "data": {
      "text/plain": [
       "[23.66, 34.88, 99.44, 43.55, 22.65, 78.55, 99.44]"
      ]
     },
     "execution_count": 43,
     "metadata": {},
     "output_type": "execute_result"
    }
   ],
   "source": [
    "l3.copy()"
   ]
  },
  {
   "cell_type": "code",
   "execution_count": 50,
   "id": "bdd50393-e4dc-41e4-8965-df26f4251876",
   "metadata": {},
   "outputs": [],
   "source": [
    "l3.sort()"
   ]
  },
  {
   "cell_type": "code",
   "execution_count": 52,
   "id": "a04ed437-1bb7-4244-b255-8dcc70e4bcc0",
   "metadata": {},
   "outputs": [
    {
     "data": {
      "text/plain": [
       "[22.65, 23.66, 34.88, 43.55, 78.55, 99.44, 99.44]"
      ]
     },
     "execution_count": 52,
     "metadata": {},
     "output_type": "execute_result"
    }
   ],
   "source": [
    "l3"
   ]
  },
  {
   "cell_type": "code",
   "execution_count": 54,
   "id": "bfcf1c3d-984f-4053-96f4-9580ebb788b8",
   "metadata": {},
   "outputs": [],
   "source": [
    "l3.append(55.33)"
   ]
  },
  {
   "cell_type": "code",
   "execution_count": 56,
   "id": "4e568d2d-d784-48e8-a758-81d26670aacb",
   "metadata": {},
   "outputs": [
    {
     "data": {
      "text/plain": [
       "[22.65, 23.66, 34.88, 43.55, 78.55, 99.44, 99.44, 55.33]"
      ]
     },
     "execution_count": 56,
     "metadata": {},
     "output_type": "execute_result"
    }
   ],
   "source": [
    "l3"
   ]
  },
  {
   "cell_type": "markdown",
   "id": "5e8530d0-0e97-477c-a489-f94faad94ed9",
   "metadata": {},
   "source": [
    "# 4) mix type"
   ]
  },
  {
   "cell_type": "code",
   "execution_count": 102,
   "id": "9bc8d43c-c847-4e6e-b494-47aba51ca745",
   "metadata": {},
   "outputs": [],
   "source": [
    "l4 = [ 12, 33, 55, 66, 77, 88, 'hello', 'name1', 'name2']"
   ]
  },
  {
   "cell_type": "code",
   "execution_count": 104,
   "id": "2de316c7-ea8f-4606-bfb7-4d59c72b5043",
   "metadata": {},
   "outputs": [
    {
     "data": {
      "text/plain": [
       "[12, 33, 55, 66, 77, 88, 'hello', 'name1', 'name2']"
      ]
     },
     "execution_count": 104,
     "metadata": {},
     "output_type": "execute_result"
    }
   ],
   "source": [
    "l4"
   ]
  },
  {
   "cell_type": "code",
   "execution_count": 112,
   "id": "8e39eff0-5915-45d7-bfe2-88670d42805c",
   "metadata": {},
   "outputs": [],
   "source": [
    "l4.clear()"
   ]
  },
  {
   "cell_type": "code",
   "execution_count": 114,
   "id": "85f99cc3-1f82-461c-ba82-1a08a2f179e0",
   "metadata": {},
   "outputs": [
    {
     "data": {
      "text/plain": [
       "[]"
      ]
     },
     "execution_count": 114,
     "metadata": {},
     "output_type": "execute_result"
    }
   ],
   "source": [
    "l4"
   ]
  },
  {
   "cell_type": "code",
   "execution_count": 132,
   "id": "7a81b5dd-f3f9-4506-a808-e88fbfa2a61d",
   "metadata": {},
   "outputs": [
    {
     "data": {
      "text/plain": [
       "0"
      ]
     },
     "execution_count": 132,
     "metadata": {},
     "output_type": "execute_result"
    }
   ],
   "source": [
    "len(l4)"
   ]
  },
  {
   "cell_type": "markdown",
   "id": "6995edf9-f814-4a58-8da7-dd4b83157b56",
   "metadata": {},
   "source": []
  },
  {
   "cell_type": "markdown",
   "id": "9cbc2912-4371-4218-8794-049d10b87cc0",
   "metadata": {},
   "source": [
    "# 5) boolean"
   ]
  },
  {
   "cell_type": "code",
   "execution_count": 140,
   "id": "0599d4ea-ba93-48f5-a46a-b42c35eecbfe",
   "metadata": {},
   "outputs": [],
   "source": [
    "l6 = [ 'true', 'false', 'true1', 'false1', 'true2', 'false2']"
   ]
  },
  {
   "cell_type": "code",
   "execution_count": 142,
   "id": "28ceb161-47b4-40f0-901f-9482f93f935d",
   "metadata": {},
   "outputs": [
    {
     "data": {
      "text/plain": [
       "['true', 'false', 'true1', 'false1', 'true2', 'false2']"
      ]
     },
     "execution_count": 142,
     "metadata": {},
     "output_type": "execute_result"
    }
   ],
   "source": [
    "l6"
   ]
  },
  {
   "cell_type": "code",
   "execution_count": 144,
   "id": "3a9d9865-9d86-4903-96cf-c8ccf7d37265",
   "metadata": {},
   "outputs": [],
   "source": [
    "l6.reverse()"
   ]
  },
  {
   "cell_type": "code",
   "execution_count": 146,
   "id": "f964338d-223f-4d15-b6dd-a0e22b9ad9ff",
   "metadata": {},
   "outputs": [
    {
     "data": {
      "text/plain": [
       "['false2', 'true2', 'false1', 'true1', 'false', 'true']"
      ]
     },
     "execution_count": 146,
     "metadata": {},
     "output_type": "execute_result"
    }
   ],
   "source": [
    "l6"
   ]
  },
  {
   "cell_type": "code",
   "execution_count": 152,
   "id": "55ee7d35-69d9-4331-8739-cc138b530d8d",
   "metadata": {},
   "outputs": [
    {
     "data": {
      "text/plain": [
       "'false2$true2$false1$true1$false$true'"
      ]
     },
     "execution_count": 152,
     "metadata": {},
     "output_type": "execute_result"
    }
   ],
   "source": [
    "'$'.join(l6)"
   ]
  },
  {
   "cell_type": "code",
   "execution_count": null,
   "id": "65b4f820-b712-4fc3-b221-7183a44b158d",
   "metadata": {},
   "outputs": [],
   "source": []
  }
 ],
 "metadata": {
  "kernelspec": {
   "display_name": "Python 3 (ipykernel)",
   "language": "python",
   "name": "python3"
  },
  "language_info": {
   "codemirror_mode": {
    "name": "ipython",
    "version": 3
   },
   "file_extension": ".py",
   "mimetype": "text/x-python",
   "name": "python",
   "nbconvert_exporter": "python",
   "pygments_lexer": "ipython3",
   "version": "3.12.4"
  }
 },
 "nbformat": 4,
 "nbformat_minor": 5
}
