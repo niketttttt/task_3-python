{
 "cells": [
  {
   "cell_type": "markdown",
   "id": "01152e3b-4bcb-4c0a-a73c-473b45f340a3",
   "metadata": {},
   "source": [
    "# 8 example of tuple\n",
    "\n",
    " # 1)numerical type\n",
    " *  A tuple containing numeric object"
   ]
  },
  {
   "cell_type": "code",
   "execution_count": 8,
   "id": "74fd7236-c1f8-4f23-8898-6b8add012a23",
   "metadata": {},
   "outputs": [],
   "source": [
    "n1 = (1,23,4,5,6,77,223,44,44)"
   ]
  },
  {
   "cell_type": "code",
   "execution_count": 10,
   "id": "84398b65-ea6b-4346-9a20-352855da4f46",
   "metadata": {},
   "outputs": [
    {
     "data": {
      "text/plain": [
       "(1, 23, 4, 5, 6, 77, 223, 44, 44)"
      ]
     },
     "execution_count": 10,
     "metadata": {},
     "output_type": "execute_result"
    }
   ],
   "source": [
    "n1"
   ]
  },
  {
   "cell_type": "code",
   "execution_count": 12,
   "id": "a0e858a2-3f96-4946-9d41-16f1f7e9f332",
   "metadata": {},
   "outputs": [
    {
     "data": {
      "text/plain": [
       "2"
      ]
     },
     "execution_count": 12,
     "metadata": {},
     "output_type": "execute_result"
    }
   ],
   "source": [
    "n1.count(44)"
   ]
  },
  {
   "cell_type": "markdown",
   "id": "3379748f-bf84-47fb-91ab-0d0e62066559",
   "metadata": {},
   "source": [
    "# 2) string type tuple\n",
    "\n",
    " * A String is a data structure in Python Programming that represents a sequence of characters. "
   ]
  },
  {
   "cell_type": "markdown",
   "id": "e400594e-8f99-403a-bb3e-508c574b3890",
   "metadata": {},
   "source": [
    " * https://www.geeksforgeeks.org/python-string/"
   ]
  },
  {
   "cell_type": "code",
   "execution_count": 16,
   "id": "c1dcd9b5-c57f-452e-aaa3-3facb370bfef",
   "metadata": {},
   "outputs": [],
   "source": [
    "n2 = ( 'apple', 'banana', 'mango', 'blue barry')"
   ]
  },
  {
   "cell_type": "code",
   "execution_count": 18,
   "id": "e7dce43e-aecc-4aa2-89c9-515870101917",
   "metadata": {},
   "outputs": [
    {
     "data": {
      "text/plain": [
       "('apple', 'banana', 'mango', 'blue barry')"
      ]
     },
     "execution_count": 18,
     "metadata": {},
     "output_type": "execute_result"
    }
   ],
   "source": [
    "n2 "
   ]
  },
  {
   "cell_type": "code",
   "execution_count": 22,
   "id": "4d2d0ee9-80b9-4baa-85f4-73d2d64190fd",
   "metadata": {},
   "outputs": [
    {
     "data": {
      "text/plain": [
       "1"
      ]
     },
     "execution_count": 22,
     "metadata": {},
     "output_type": "execute_result"
    }
   ],
   "source": [
    "n2.index('banana')"
   ]
  },
  {
   "cell_type": "markdown",
   "id": "43c5ec57-9c1f-4dca-a9b3-57af1bdb2b0f",
   "metadata": {},
   "source": [
    "# 3) mix type tuple\n",
    "\n",
    "* "
   ]
  },
  {
   "cell_type": "code",
   "execution_count": 27,
   "id": "286559e1-13fb-4947-b25e-0766c41db71a",
   "metadata": {},
   "outputs": [],
   "source": [
    "n3 = (12,34,5,6,233,56,'name1', 'name2','true','music')"
   ]
  },
  {
   "cell_type": "code",
   "execution_count": 29,
   "id": "b010a364-2e4a-4ff3-bc92-1f2151e9e792",
   "metadata": {},
   "outputs": [
    {
     "data": {
      "text/plain": [
       "(12, 34, 5, 6, 233, 56, 'name1', 'name2', 'true', 'music')"
      ]
     },
     "execution_count": 29,
     "metadata": {},
     "output_type": "execute_result"
    }
   ],
   "source": [
    "n3"
   ]
  },
  {
   "cell_type": "markdown",
   "id": "88aafe65-8c2a-4ab4-a22f-c8bb9e6d9909",
   "metadata": {},
   "source": [
    "# 4) language \n",
    "\n",
    "* There are several types of coding languages used for programming, and all of them have different strengths and uses. Every program, app, and machine that has a computer in it runs on code, so it makes sense that there are hundreds of coding languages to choose from.\n",
    "\n",
    "* https://careerkarma.com/blog/types-of-coding-languages/"
   ]
  },
  {
   "cell_type": "code",
   "execution_count": 15,
   "id": "2e15aa0c-66cf-47e4-8a90-a756b9b1ec94",
   "metadata": {},
   "outputs": [],
   "source": [
    "n4 = ( 'c', 'c++', 'python', 'html', 'javascript', 'sql', 'php')"
   ]
  },
  {
   "cell_type": "code",
   "execution_count": 17,
   "id": "89c590d7-897b-4e54-897f-266616adcbf4",
   "metadata": {},
   "outputs": [
    {
     "data": {
      "text/plain": [
       "('c', 'c++', 'python', 'html', 'javascript', 'sql', 'php')"
      ]
     },
     "execution_count": 17,
     "metadata": {},
     "output_type": "execute_result"
    }
   ],
   "source": [
    "n4"
   ]
  },
  {
   "cell_type": "markdown",
   "id": "16fce4bf-18e8-4121-8fba-401a9f502c4a",
   "metadata": {},
   "source": [
    "# 5) age"
   ]
  },
  {
   "cell_type": "code",
   "execution_count": 41,
   "id": "7ca5d088-4bf2-4840-aa26-c99402e4be6c",
   "metadata": {},
   "outputs": [],
   "source": [
    "n5 = (18,19,21,34,54,67,89,10)"
   ]
  },
  {
   "cell_type": "code",
   "execution_count": 43,
   "id": "3257ae89-24e1-4cf6-80de-0b2662fc5221",
   "metadata": {},
   "outputs": [
    {
     "data": {
      "text/plain": [
       "(18, 19, 21, 34, 54, 67, 89, 10)"
      ]
     },
     "execution_count": 43,
     "metadata": {},
     "output_type": "execute_result"
    }
   ],
   "source": [
    "n5"
   ]
  },
  {
   "cell_type": "markdown",
   "id": "8c833954-e942-4af9-aed6-a65575977f51",
   "metadata": {},
   "source": [
    "# 6) animal"
   ]
  },
  {
   "cell_type": "code",
   "execution_count": 46,
   "id": "a9f0307a-aab2-4526-9e4b-84f7b68a67ca",
   "metadata": {},
   "outputs": [],
   "source": [
    " n6 = ('mouse', 'chiken', 'zebra', 'cat', 'dog', 'white tiger')"
   ]
  },
  {
   "cell_type": "code",
   "execution_count": 48,
   "id": "738a723a-e9a5-42ae-8504-2d8ce20e2439",
   "metadata": {},
   "outputs": [
    {
     "data": {
      "text/plain": [
       "('mouse', 'chiken', 'zebra', 'cat', 'dog', 'white tiger')"
      ]
     },
     "execution_count": 48,
     "metadata": {},
     "output_type": "execute_result"
    }
   ],
   "source": [
    "n6"
   ]
  },
  {
   "cell_type": "markdown",
   "id": "4235146a-2a2c-476e-b49d-98b7d3274cd7",
   "metadata": {},
   "source": [
    "# 7) type of computer brand"
   ]
  },
  {
   "cell_type": "code",
   "execution_count": 51,
   "id": "7c088d46-8305-4e05-8955-bb8f5da2c20c",
   "metadata": {},
   "outputs": [],
   "source": [
    "n7 = ( 'leanovo', 'hp', 'assus', 'hcl', 'macbook')"
   ]
  },
  {
   "cell_type": "code",
   "execution_count": 53,
   "id": "f64b1bf5-483b-4d02-ae8b-1af9144ee532",
   "metadata": {},
   "outputs": [
    {
     "data": {
      "text/plain": [
       "('leanovo', 'hp', 'assus', 'hcl', 'macbook')"
      ]
     },
     "execution_count": 53,
     "metadata": {},
     "output_type": "execute_result"
    }
   ],
   "source": [
    "n7"
   ]
  },
  {
   "cell_type": "code",
   "execution_count": 55,
   "id": "e13f6a7d-fc9d-4b48-aa54-38f1af150480",
   "metadata": {},
   "outputs": [
    {
     "data": {
      "text/plain": [
       "3"
      ]
     },
     "execution_count": 55,
     "metadata": {},
     "output_type": "execute_result"
    }
   ],
   "source": [
    "n7.index('hcl')"
   ]
  },
  {
   "cell_type": "markdown",
   "id": "ac84d36b-faf8-4c79-9e15-57eda6f0488f",
   "metadata": {},
   "source": [
    "# 8) type of city\n",
    "\n",
    "* The classification of Indian cities is a ranking system used by the Government of India to allocate House Rent Allowance (HRA) to public servants employed in cities in India.\n",
    "\n",
    "* https://en.wikipedia.org/wiki/Classification_of_Indian_cities"
   ]
  },
  {
   "cell_type": "code",
   "execution_count": 77,
   "id": "bccfdcf1-6451-41f1-aac0-985b9cdd14a9",
   "metadata": {},
   "outputs": [],
   "source": [
    "n8 = ( 'nagpur', 'mumbai', 'nashik', 'hydrabad', 'kolkata', 'pune', 'mumbai')"
   ]
  },
  {
   "cell_type": "code",
   "execution_count": 79,
   "id": "b0d63fc1-2594-4791-b6ad-13edbc6aa064",
   "metadata": {},
   "outputs": [
    {
     "data": {
      "text/plain": [
       "('nagpur', 'mumbai', 'nashik', 'hydrabad', 'kolkata', 'pune', 'mumbai')"
      ]
     },
     "execution_count": 79,
     "metadata": {},
     "output_type": "execute_result"
    }
   ],
   "source": [
    "n8"
   ]
  },
  {
   "cell_type": "code",
   "execution_count": 81,
   "id": "fd2fea75-f93b-4579-bee2-78f2d3309b9e",
   "metadata": {},
   "outputs": [
    {
     "data": {
      "text/plain": [
       "2"
      ]
     },
     "execution_count": 81,
     "metadata": {},
     "output_type": "execute_result"
    }
   ],
   "source": [
    "n8.count('mumbai')"
   ]
  },
  {
   "cell_type": "code",
   "execution_count": null,
   "id": "131df02d-6378-4963-8735-02e3efd5d6ed",
   "metadata": {},
   "outputs": [],
   "source": []
  }
 ],
 "metadata": {
  "kernelspec": {
   "display_name": "Python 3 (ipykernel)",
   "language": "python",
   "name": "python3"
  },
  "language_info": {
   "codemirror_mode": {
    "name": "ipython",
    "version": 3
   },
   "file_extension": ".py",
   "mimetype": "text/x-python",
   "name": "python",
   "nbconvert_exporter": "python",
   "pygments_lexer": "ipython3",
   "version": "3.12.4"
  }
 },
 "nbformat": 4,
 "nbformat_minor": 5
}
